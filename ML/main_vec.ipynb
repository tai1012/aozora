{
 "cells": [
  {
   "cell_type": "code",
   "execution_count": 3,
   "id": "94336fc6-c5af-44cc-8e06-e14b08f2c3f0",
   "metadata": {},
   "outputs": [],
   "source": [
    "# !brew install libomp\n",
    "# !pip install lightgbm"
   ]
  },
  {
   "cell_type": "code",
   "execution_count": 4,
   "id": "8bd37521-7dc7-47f6-a014-368e990e0532",
   "metadata": {},
   "outputs": [],
   "source": [
    "import numpy as np\n",
    "import pandas as pd\n",
    "import matplotlib.pyplot as plt\n",
    "import japanize_matplotlib\n",
    "import seaborn as sns\n",
    "\n",
    "import warnings # 実行に関係ない警告を無視\n",
    "warnings.filterwarnings('ignore')\n",
    "from sklearn.feature_extraction.text import CountVectorizer\n",
    "from sklearn.feature_extraction.text import TfidfVectorizer\n",
    "from sklearn.model_selection import train_test_split\n",
    "from sklearn.metrics import confusion_matrix, classification_report\n",
    "\n",
    "import lightgbm as lgbm\n",
    "\n",
    "import shap"
   ]
  },
  {
   "cell_type": "code",
   "execution_count": 5,
   "id": "aefa2b6f-58b4-45da-a191-9b20c6b734e5",
   "metadata": {},
   "outputs": [],
   "source": [
    "data_250words = pd.read_csv('../data/vec_250words.csv')\n",
    "data_100words = pd.read_csv('../data/vec_100words.csv')\n",
    "data_250nochar = pd.read_csv('../data/vec_250words_nochar.csv')\n",
    "data_250words = data_250words.drop('Unnamed: 0', axis=1)\n",
    "data_100words = data_100words.drop('Unnamed: 0', axis=1)\n",
    "data_250nochar = data_250nochar.drop('Unnamed: 0', axis=1)"
   ]
  },
  {
   "cell_type": "code",
   "execution_count": 6,
   "id": "10577050-74e8-46b9-a6e5-61c13aaa621e",
   "metadata": {},
   "outputs": [],
   "source": [
    "# data_250words"
   ]
  },
  {
   "cell_type": "code",
   "execution_count": 7,
   "id": "0bcca30f-1981-4cad-8f5b-cda9de093dcd",
   "metadata": {},
   "outputs": [],
   "source": [
    "# group = data_250words.groupby('author').mean()\n",
    "# group\n",
    "# # sns.pairplot(data_250words, hue='author_num')"
   ]
  },
  {
   "cell_type": "code",
   "execution_count": 8,
   "id": "831f186e-71e6-46fc-b282-64808d801564",
   "metadata": {},
   "outputs": [],
   "source": [
    "# data_250words.groupby('author').size() "
   ]
  },
  {
   "cell_type": "code",
   "execution_count": 9,
   "id": "ce839ca5-aeae-48a5-8151-f6a9ad68c2c1",
   "metadata": {},
   "outputs": [],
   "source": [
    "# title = data_250words.title\n",
    "# # num_1 = data_250words.query('author_num==1')\n",
    "# data_250words = data_250words.set_index(title)\n",
    "# data_250T = data_250words.sort_values('author').T\n",
    "# data_250T = data_250T[:-1]\n",
    "# data_250T\n",
    "# # .sort_values(by=title[0], ascending=False)\n",
    "# # num_1\n",
    "# # tenchi_1\n",
    "# # tenchi_1 = tenchi_1.sort_valu"
   ]
  },
  {
   "cell_type": "code",
   "execution_count": 10,
   "id": "24fcf948-5973-458e-82c4-fe7cee7b39b1",
   "metadata": {},
   "outputs": [],
   "source": [
    "# data_100words"
   ]
  },
  {
   "cell_type": "code",
   "execution_count": 11,
   "id": "737a4087-c527-43f7-8aeb-b8f18b6a71c7",
   "metadata": {},
   "outputs": [],
   "source": [
    "# # 行列を転置\n",
    "# # title = data_250words.title\n",
    "\n",
    "# data_250words = data_250words.set_index(title)\n",
    "# data_250T = data_250words.sort_values('author').T\n",
    "# data_250T = data_250T[:-1]\n",
    "# data_250T\n",
    "# # data_250T = data_250T.sort_values(by='title', ascending=False)\n",
    "\n",
    "# # # # data_T\n",
    "# # # # 値で降順ソート\n",
    "# # data_T = data_T.sort_values(by='' ,ascending=False)\n",
    "# # # # # 上位10語を取得\n",
    "# # data_T.head(100)"
   ]
  },
  {
   "cell_type": "code",
   "execution_count": 12,
   "id": "2757de26-def3-4923-8154-a617d04d25f2",
   "metadata": {},
   "outputs": [],
   "source": [
    "df1 = data_250nochar\n",
    "y = df1.author.values\n",
    "X = df1.drop(['author_num', 'author', 'title'], axis=1).values"
   ]
  },
  {
   "cell_type": "code",
   "execution_count": 13,
   "id": "47a50428-797d-4f4e-823d-2948bd841971",
   "metadata": {},
   "outputs": [
    {
     "data": {
      "text/plain": [
       "((3015, 250), (3015,))"
      ]
     },
     "execution_count": 13,
     "metadata": {},
     "output_type": "execute_result"
    }
   ],
   "source": [
    "X_train, X_test, y_train, y_test = train_test_split(X, y, test_size=0.3, stratify=y, random_state=0)\n",
    "X_train.shape, y_train.shape"
   ]
  },
  {
   "cell_type": "code",
   "execution_count": 14,
   "id": "91d8bf7e-3a0c-4867-bac3-7750d877e29b",
   "metadata": {},
   "outputs": [],
   "source": [
    "# y_train.value_counts(), y_test.value_counts()"
   ]
  },
  {
   "cell_type": "code",
   "execution_count": null,
   "id": "a7e49d8f-67d4-4925-8bb1-ebdf55d23349",
   "metadata": {},
   "outputs": [],
   "source": [
    "df_lgb = lgbm.LGBMClassifier()\n",
    "df_lgb.fit(X_train, y_train)"
   ]
  },
  {
   "cell_type": "code",
   "execution_count": null,
   "id": "355f824d-1df6-4fa6-9b9e-db0e992fc658",
   "metadata": {},
   "outputs": [],
   "source": [
    "lgbm = lgbm.LGBMClassifier(max_depth=10,\n",
    "                          n_estimators=1000)\n",
    "\n",
    "\n",
    "\n"
   ]
  },
  {
   "cell_type": "code",
   "execution_count": null,
   "id": "020a75c9-09d0-451f-bf49-cc4f40c5df7a",
   "metadata": {},
   "outputs": [],
   "source": []
  }
 ],
 "metadata": {
  "kernelspec": {
   "display_name": "Python 3.8.8 64-bit ('base': conda)",
   "language": "python",
   "name": "python388jvsc74a57bd0dca0ade3e726a953b501b15e8e990130d2b7799f14cfd9f4271676035ebe5511"
  },
  "language_info": {
   "codemirror_mode": {
    "name": "ipython",
    "version": 3
   },
   "file_extension": ".py",
   "mimetype": "text/x-python",
   "name": "python",
   "nbconvert_exporter": "python",
   "pygments_lexer": "ipython3",
   "version": "3.8.8"
  }
 },
 "nbformat": 4,
 "nbformat_minor": 5
}
