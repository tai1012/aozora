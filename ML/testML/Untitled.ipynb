{
 "cells": [
  {
   "cell_type": "code",
   "execution_count": null,
   "id": "27b5fec4-a4c4-4122-b8af-ba54ca935df7",
   "metadata": {},
   "outputs": [],
   "source": [
    "# import文\n",
    "import pandas as pd\n",
    "import numpy as np\n",
    "import matplotlib.pyplot as plt\n",
    "import japanize_matplotlib\n",
    "import seaborn as sns \n",
    "\n",
    "\n",
    "from sklearn.model_selection import train_test_split\n",
    "import umap\n",
    "from sklearn.manifold import TSNE\n",
    "from sklearn.cluster import KMeans\n",
    "from sklearn.ensemble import RandomForestClassifier"
   ]
  },
  {
   "cell_type": "code",
   "execution_count": 1,
   "id": "5b0a8b7c-21ca-4b3b-bade-992c16d7a20e",
   "metadata": {},
   "outputs": [
    {
     "name": "stderr",
     "output_type": "stream",
     "text": [
      "/Users/yoshino/opt/anaconda3/envs/MeCab/lib/python3.8/site-packages/tqdm/auto.py:22: TqdmWarning: IProgress not found. Please update jupyter and ipywidgets. See https://ipywidgets.readthedocs.io/en/stable/user_install.html\n",
      "  from .autonotebook import tqdm as notebook_tqdm\n"
     ]
    }
   ],
   "source": [
    "# import tensorflow\n",
    "import umap "
   ]
  },
  {
   "cell_type": "code",
   "execution_count": 4,
   "id": "fbe2c49d-642a-4c99-9bcd-c04f63d524de",
   "metadata": {},
   "outputs": [
    {
     "name": "stdout",
     "output_type": "stream",
     "text": [
      "Collecting umap-learn\n",
      "  Using cached umap-learn-0.5.3.tar.gz (88 kB)\n",
      "  Preparing metadata (setup.py) ... \u001b[?25ldone\n",
      "\u001b[?25hRequirement already satisfied: numpy>=1.17 in /Users/yoshino/.local/lib/python3.8/site-packages (from umap-learn) (1.22.4)\n",
      "Collecting scikit-learn>=0.22\n",
      "  Using cached scikit_learn-1.1.2-cp38-cp38-macosx_10_9_x86_64.whl (8.6 MB)\n",
      "Collecting scipy>=1.0\n",
      "  Using cached scipy-1.9.1-cp38-cp38-macosx_12_0_universal2.macosx_10_9_x86_64.whl (58.1 MB)\n",
      "Requirement already satisfied: numba>=0.49 in /Users/yoshino/.local/lib/python3.8/site-packages (from umap-learn) (0.56.0)\n",
      "Collecting pynndescent>=0.5\n",
      "  Using cached pynndescent-0.5.7.tar.gz (1.1 MB)\n",
      "  Preparing metadata (setup.py) ... \u001b[?25ldone\n",
      "\u001b[?25hCollecting tqdm\n",
      "  Using cached tqdm-4.64.1-py2.py3-none-any.whl (78 kB)\n",
      "Requirement already satisfied: llvmlite<0.40,>=0.39.0dev0 in /Users/yoshino/.local/lib/python3.8/site-packages (from numba>=0.49->umap-learn) (0.39.0)\n",
      "Requirement already satisfied: setuptools in /Users/yoshino/.local/lib/python3.8/site-packages (from numba>=0.49->umap-learn) (65.3.0)\n",
      "Requirement already satisfied: importlib-metadata in /Users/yoshino/.local/lib/python3.8/site-packages (from numba>=0.49->umap-learn) (4.12.0)\n",
      "Collecting joblib>=0.11\n",
      "  Using cached joblib-1.2.0-py3-none-any.whl (297 kB)\n",
      "Collecting threadpoolctl>=2.0.0\n",
      "  Using cached threadpoolctl-3.1.0-py3-none-any.whl (14 kB)\n",
      "Requirement already satisfied: zipp>=0.5 in /Users/yoshino/.local/lib/python3.8/site-packages (from importlib-metadata->numba>=0.49->umap-learn) (3.8.1)\n",
      "Building wheels for collected packages: umap-learn, pynndescent\n",
      "  Building wheel for umap-learn (setup.py) ... \u001b[?25ldone\n",
      "\u001b[?25h  Created wheel for umap-learn: filename=umap_learn-0.5.3-py3-none-any.whl size=82814 sha256=1a63f2048b8b0688d4acf3cad586b544dd932af4b773a1fb2c211e8abbb604de\n",
      "  Stored in directory: /Users/yoshino/Library/Caches/pip/wheels/a9/3a/67/06a8950e053725912e6a8c42c4a3a241410f6487b8402542ea\n",
      "  Building wheel for pynndescent (setup.py) ... \u001b[?25ldone\n",
      "\u001b[?25h  Created wheel for pynndescent: filename=pynndescent-0.5.7-py3-none-any.whl size=54269 sha256=3b24645f1383e2bae0793aa2fec07a0dc3059ef6514e726e96ec83e7dd225d29\n",
      "  Stored in directory: /Users/yoshino/Library/Caches/pip/wheels/1b/38/fe/99e22fbae88abd1c5e8d99253cba6d1c590cc7a94408bff3bf\n",
      "Successfully built umap-learn pynndescent\n",
      "Installing collected packages: tqdm, threadpoolctl, scipy, joblib, scikit-learn, pynndescent, umap-learn\n",
      "Successfully installed joblib-1.2.0 pynndescent-0.5.7 scikit-learn-1.1.2 scipy-1.9.1 threadpoolctl-3.1.0 tqdm-4.64.1 umap-learn-0.5.3\n"
     ]
    }
   ],
   "source": [
    "!pip install umap-learn"
   ]
  },
  {
   "cell_type": "code",
   "execution_count": 22,
   "id": "063c8e45-5a36-42bb-9e42-e286633d3c1f",
   "metadata": {},
   "outputs": [
    {
     "name": "stdout",
     "output_type": "stream",
     "text": [
      "Collecting umap-learn\n",
      "  Using cached umap_learn-0.5.3-py3-none-any.whl\n",
      "Requirement already satisfied: scikit-learn in /opt/anaconda3/envs/DEEPLABCUT_M1/lib/python3.7/site-packages (1.0.2)\n",
      "Requirement already satisfied: pynndescent>=0.5 in /opt/anaconda3/envs/DEEPLABCUT_M1/lib/python3.7/site-packages (from umap-learn) (0.5.7)\n",
      "Requirement already satisfied: scipy>=1.0 in /opt/anaconda3/envs/DEEPLABCUT_M1/lib/python3.7/site-packages (from umap-learn) (1.7.3)\n",
      "Requirement already satisfied: numba>=0.49 in /opt/anaconda3/envs/DEEPLABCUT_M1/lib/python3.7/site-packages (from umap-learn) (0.56.2)\n",
      "Requirement already satisfied: numpy>=1.17 in /opt/anaconda3/envs/DEEPLABCUT_M1/lib/python3.7/site-packages (from umap-learn) (1.21.6)\n",
      "Requirement already satisfied: tqdm in /opt/anaconda3/envs/DEEPLABCUT_M1/lib/python3.7/site-packages (from umap-learn) (4.64.1)\n",
      "Requirement already satisfied: threadpoolctl>=2.0.0 in /opt/anaconda3/envs/DEEPLABCUT_M1/lib/python3.7/site-packages (from scikit-learn) (3.1.0)\n",
      "Requirement already satisfied: joblib>=0.11 in /opt/anaconda3/envs/DEEPLABCUT_M1/lib/python3.7/site-packages (from scikit-learn) (1.2.0)\n",
      "Requirement already satisfied: llvmlite<0.40,>=0.39.0dev0 in /opt/anaconda3/envs/DEEPLABCUT_M1/lib/python3.7/site-packages (from numba>=0.49->umap-learn) (0.39.1)\n",
      "Requirement already satisfied: importlib-metadata in /opt/anaconda3/envs/DEEPLABCUT_M1/lib/python3.7/site-packages (from numba>=0.49->umap-learn) (4.11.4)\n",
      "Requirement already satisfied: setuptools<60 in /opt/anaconda3/envs/DEEPLABCUT_M1/lib/python3.7/site-packages (from numba>=0.49->umap-learn) (59.8.0)\n",
      "Requirement already satisfied: zipp>=0.5 in /opt/anaconda3/envs/DEEPLABCUT_M1/lib/python3.7/site-packages (from importlib-metadata->numba>=0.49->umap-learn) (3.8.1)\n",
      "Requirement already satisfied: typing-extensions>=3.6.4 in /opt/anaconda3/envs/DEEPLABCUT_M1/lib/python3.7/site-packages (from importlib-metadata->numba>=0.49->umap-learn) (4.3.0)\n",
      "Installing collected packages: umap-learn\n",
      "Successfully installed umap-learn-0.5.3\n",
      "Note: you may need to restart the kernel to use updated packages.\n"
     ]
    }
   ],
   "source": [
    "pip install umap-learn scikit-learn"
   ]
  },
  {
   "cell_type": "code",
   "execution_count": 2,
   "id": "76ae4bea-acf9-4d98-ace9-5b8588c5e0b9",
   "metadata": {},
   "outputs": [
    {
     "name": "stdout",
     "output_type": "stream",
     "text": [
      "Collecting tbb==2019.0\n",
      "  Downloading tbb-2019.0-py2.py3-none-macosx_10_12_intel.macosx_10_12_x86_64.whl (565 kB)\n",
      "\u001b[2K     \u001b[90m━━━━━━━━━━━━━━━━━━━━━━━━━━━━━━━━━━━━━━━\u001b[0m \u001b[32m565.1/565.1 kB\u001b[0m \u001b[31m7.0 MB/s\u001b[0m eta \u001b[36m0:00:00\u001b[0ma \u001b[36m0:00:01\u001b[0m\n",
      "\u001b[?25hInstalling collected packages: tbb\n",
      "Successfully installed tbb-2019.0\n",
      "Requirement already satisfied: umap-learn in /opt/anaconda3/lib/python3.8/site-packages (0.5.3)\n",
      "Requirement already satisfied: numba>=0.49 in /Users/yoshino/.local/lib/python3.8/site-packages (from umap-learn) (0.56.0)\n",
      "Requirement already satisfied: numpy>=1.17 in /Users/yoshino/.local/lib/python3.8/site-packages (from umap-learn) (1.22.4)\n",
      "Requirement already satisfied: tqdm in /opt/anaconda3/lib/python3.8/site-packages (from umap-learn) (4.64.0)\n",
      "Requirement already satisfied: pynndescent>=0.5 in /opt/anaconda3/lib/python3.8/site-packages (from umap-learn) (0.5.7)\n",
      "Requirement already satisfied: scikit-learn>=0.22 in /opt/anaconda3/lib/python3.8/site-packages (from umap-learn) (1.1.1)\n",
      "Requirement already satisfied: scipy>=1.0 in /opt/anaconda3/lib/python3.8/site-packages (from umap-learn) (1.7.3)\n",
      "Requirement already satisfied: importlib-metadata in /Users/yoshino/.local/lib/python3.8/site-packages (from numba>=0.49->umap-learn) (4.12.0)\n",
      "Requirement already satisfied: setuptools in /Users/yoshino/.local/lib/python3.8/site-packages (from numba>=0.49->umap-learn) (65.3.0)\n",
      "Requirement already satisfied: llvmlite<0.40,>=0.39.0dev0 in /Users/yoshino/.local/lib/python3.8/site-packages (from numba>=0.49->umap-learn) (0.39.0)\n",
      "Requirement already satisfied: joblib>=0.11 in /opt/anaconda3/lib/python3.8/site-packages (from pynndescent>=0.5->umap-learn) (1.1.0)\n",
      "Requirement already satisfied: threadpoolctl>=2.0.0 in /opt/anaconda3/lib/python3.8/site-packages (from scikit-learn>=0.22->umap-learn) (2.2.0)\n",
      "Requirement already satisfied: zipp>=0.5 in /Users/yoshino/.local/lib/python3.8/site-packages (from importlib-metadata->numba>=0.49->umap-learn) (3.8.1)\n"
     ]
    }
   ],
   "source": [
    "!pip install https://files.pythonhosted.org/packages/33/2a/a309969dbe9ac0738d1688e1653cf0f5cd3e511da2db986b831e986c44c2/tbb-2019.0-py2.py3-none-macosx_10_12_intel.macosx_10_12_x86_64.whl\n",
    "!pip install umap-learn"
   ]
  },
  {
   "cell_type": "code",
   "execution_count": null,
   "id": "522cdd59-4b4b-4bb3-a067-424cac3e5471",
   "metadata": {},
   "outputs": [],
   "source": []
  }
 ],
 "metadata": {
  "kernelspec": {
   "display_name": "Python [conda env:MeCab]",
   "language": "python",
   "name": "conda-env-MeCab-py"
  },
  "language_info": {
   "codemirror_mode": {
    "name": "ipython",
    "version": 3
   },
   "file_extension": ".py",
   "mimetype": "text/x-python",
   "name": "python",
   "nbconvert_exporter": "python",
   "pygments_lexer": "ipython3",
   "version": "3.8.13"
  }
 },
 "nbformat": 4,
 "nbformat_minor": 5
}
